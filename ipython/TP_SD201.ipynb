{
 "metadata": {
  "name": "",
  "signature": "sha256:27a5d6e7e3fc28df6a60ad77c8dd2143836e8a9a485bcf0b6d985c3c17d3967d"
 },
 "nbformat": 3,
 "nbformat_minor": 0,
 "worksheets": [
  {
   "cells": [
    {
     "cell_type": "code",
     "collapsed": false,
     "input": [
      "L= range(1 , 10)\n",
      "M= L\n",
      "T=[]\n",
      "def f(L): \n",
      "    T= [int(x) for x in L if x%2==0]\n",
      "    return T\n",
      "T= f(L)\n",
      "print T\n",
      "print M  \n",
      "M[1:5]"
     ],
     "language": "python",
     "metadata": {},
     "outputs": [
      {
       "output_type": "stream",
       "stream": "stdout",
       "text": [
        "[2, 4, 6, 8]\n",
        "[1, 2, 3, 4, 5, 6, 7, 8, 9]\n"
       ]
      },
      {
       "metadata": {},
       "output_type": "pyout",
       "prompt_number": 45,
       "text": [
        "[2, 3, 4, 5]"
       ]
      }
     ],
     "prompt_number": 45
    },
    {
     "cell_type": "code",
     "collapsed": false,
     "input": [
      "import random\n",
      "# return a list of int\n",
      "def writeIntList(L,fileW):\n",
      "    fw = open(fileW,'w')\n",
      "    strL= str(L)\n",
      "    fw.write(strL)\n",
      "    fw.close()\n",
      "def readIntList(fileR):\n",
      "    fr = open(fileR,'r')\n",
      "    for line in fr:\n",
      "        line=line.strip('[]')\n",
      "        intrl=[int(x) for x in line.split(', ')]  \n",
      "    return intrl\n",
      "    fr.close()\n",
      "    \n",
      "listFile= 'intList'\n",
      "intList= random.sample(range(1,1000),10)\n",
      "print intList\n",
      "writeIntList(intList,listFile)\n",
      "intListNew= readIntList(listFile)\n",
      "print intListNew\n",
      "\n"
     ],
     "language": "python",
     "metadata": {},
     "outputs": [
      {
       "output_type": "stream",
       "stream": "stdout",
       "text": [
        "[383, 571, 446, 518, 81, 776, 718, 917, 764, 592]\n",
        "[383, 571, 446, 518, 81, 776, 718, 917, 764, 592]\n"
       ]
      }
     ],
     "prompt_number": 53
    },
    {
     "cell_type": "code",
     "collapsed": false,
     "input": [
      "import random\n",
      "# return a list of int\n",
      "def writeIntList(L,fileW):\n",
      "    fw = open(fileW,'w')\n",
      "    strL= str(L)\n",
      "    fw.write(strL)\n",
      "    fw.close()\n",
      "def readIntList(fileR):\n",
      "    fr = open(fileR,'r')\n",
      "    fileStr= fr.read()\n",
      "    fileStr=[int(x) for x in fileStr.split(', ')]\n",
      "    fr.close()\n",
      "def readFile(fileR):\n",
      "    fr = open(fileR,'r')\n",
      "    fileStr= fr.read()\n",
      "    return fileStr\n",
      "intList=[[1, 2, 3],[8, 9, 7]]\n",
      "print intList\n",
      "listFile= 'intList'\n",
      "writeIntList(intList,listFile)\n",
      "fileStr= readFile(listFile)\n",
      "print fileStr\n",
      "fileStr[1]\n",
      "intList[0]"
     ],
     "language": "python",
     "metadata": {},
     "outputs": [
      {
       "output_type": "stream",
       "stream": "stdout",
       "text": [
        "[[1, 2, 3], [8, 9, 7]]\n",
        "[[1, 2, 3], [8, 9, 7]]\n"
       ]
      },
      {
       "metadata": {},
       "output_type": "pyout",
       "prompt_number": 66,
       "text": [
        "[1, 2, 3]"
       ]
      }
     ],
     "prompt_number": 66
    },
    {
     "cell_type": "code",
     "collapsed": false,
     "input": [
      "intList= [0,0,0,0,0,0]\n",
      "graphiNet=[]\n",
      "for x in range(0,6):\n",
      "    graphiNet.append(intList)\n",
      "\n",
      "print graphiNet"
     ],
     "language": "python",
     "metadata": {},
     "outputs": [
      {
       "output_type": "stream",
       "stream": "stdout",
       "text": [
        "[[0, 0, 0, 0, 0, 0], [0, 0, 0, 0, 0, 0], [0, 0, 0, 0, 0, 0], [0, 0, 0, 0, 0, 0], [0, 0, 0, 0, 0, 0], [0, 0, 0, 0, 0, 0]]\n"
       ]
      }
     ],
     "prompt_number": 70
    },
    {
     "cell_type": "code",
     "collapsed": false,
     "input": [],
     "language": "python",
     "metadata": {},
     "outputs": []
    }
   ],
   "metadata": {}
  }
 ]
}